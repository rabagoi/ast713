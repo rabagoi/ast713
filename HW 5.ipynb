{
 "cells": [
  {
   "cell_type": "markdown",
   "metadata": {},
   "source": [
    "## Ian Rabago - AST 713, Homework 4\n",
    "\n",
    "***"
   ]
  },
  {
   "cell_type": "markdown",
   "metadata": {},
   "source": [
    "### Chapter 4, Problem 5"
   ]
  },
  {
   "cell_type": "markdown",
   "metadata": {},
   "source": [
    "$\\frac{dE_{rot}}{dt} \\propto \\omega^6$\n",
    "\n",
    "a. To find an expression for $\\omega(t)$, approximate $\\frac{dE_{rot}}{dt}$ as a fraction:\n",
    "\n",
    "$\\frac{E_{rot}}{t} \\sim \\omega^6$\n",
    "\n",
    "$\\frac{1}{2} \\frac{I\\omega^2}{t} \\sim \\omega^6$\n",
    "\n",
    "$\\omega^4 \\sim \\frac{I}{2t}$\n",
    "\n",
    "$\\omega \\sim \\left( \\frac{I}{2t} \\right)^\\frac{1}{4} = \\left( \\frac{1}{5}\\frac{M_{ns}R_{ns}^2}{t} \\right)^\\frac{1}{4}$\n",
    "\n",
    "b. The Crab Pulsar has a period of $\\tau_{CP} = 33ms$. If we assume its initial period was roughly $\\tau_0 \\sim 1ms$, close to the upper limit of pulsars, then\n",
    "\n",
    "$\\omega = \\frac{2\\pi}{\\tau} = \\left( \\frac{1}{5}\\frac{M_{ns}R_{ns}^2}{t} \\right)^\\frac{1}{4}$\n",
    "\n",
    "Using $M_{ns} = 2M_\\odot$ and $R_{ns} = 10km$,\n",
    "\n",
    "$\\frac{2\\pi}{\\tau_0} = \\left( \\frac{1}{5}\\frac{M_{ns}R_{ns}^2}{t_0} \\right)^\\frac{1}{4}$\n",
    "\n",
    "$t_0 = 6.211\\times10^{29} s$\n",
    "\n",
    "$\\frac{2\\pi}{\\tau_{CP}} = \\left( \\frac{1}{5}\\frac{M_{ns}R_{ns}^2}{t_{CP}} \\right)^\\frac{1}{4}$\n",
    "\n",
    "$t_{CP} = 7.365\\times10^{35} s$\n",
    "\n",
    "Thus, the elapsed time to slow the Crab Pulsar via gravitational waves is\n",
    "\n",
    "$$t_{CP} - t_0 \\approx 7.365\\times10^{35} s = 2.335\\times10^{28} yrs$$\n",
    "\n",
    "This is many orders of magnitude longer than the current age of the universe, so it is unlikely that pulsars slow down via gravitational waves."
   ]
  },
  {
   "cell_type": "markdown",
   "metadata": {},
   "source": [
    "### Chapter 5, Problem 2"
   ]
  },
  {
   "cell_type": "markdown",
   "metadata": {},
   "source": [
    "Milky Way\n",
    "\n",
    "$5\\times10^{10}M_\\odot$ Gas\n",
    "\n",
    "$10^{11}$ Stars\n",
    "\n",
    "Mass Function $\\frac{dN}{dM} \\propto M^{-2.35},\\ 0.4M_\\odot - 100M_\\odot$\n",
    "\n",
    "a. To find the fraction of stars greater than $8M_\\odot$, we can integrate the mass function over the range of desired masses.\n",
    "\n",
    "$$ F_{M > 8M_\\odot} = \\frac{\\int_{8M_\\odot}^{100M_\\odot}\\frac{dN}{dM} dM}{\\int_{0.4M_\\odot}^{100M_\\odot}\\frac{dN}{dM} dM} $$\n",
    "\n",
    "$$ F_{M > 8M_\\odot} = \\frac{M^{-1.35}\\mid_{8M_\\odot}^{100M_\\odot}}{M^{-1.35}\\mid_{0.4M_\\odot}^{100M_\\odot}} $$\n",
    "\n",
    "$$ F_{M > 8M_\\odot} = \\frac{100M_\\odot^{-1.35} - 8M_\\odot^{-1.35}}{100M_\\odot^{-1.35} - 0.4M_\\odot^{-1.35}} $$\n",
    "\n",
    "$$ F_{M > 8M_\\odot} = 0.01695 $$\n",
    "\n",
    "Note: If the upper limit of integration is changed so that $M_{upper} \\rightarrow \\infty$, the integral changes to:\n",
    "\n",
    "$$ F_{M > 8M_\\odot} = \\frac{-8M_\\odot^{-1.35}}{-0.4M_\\odot^{-1.35}} = 0.01752$$\n",
    "\n",
    "which is closer to the result found in the book.\n",
    "\n",
    "To find the number of possible supernova remnants, multiply this fraction by the number of stars in the Galaxy:\n",
    "\n",
    "$$ N_{remnants} = 10^{11} F_{M > 8M_\\odot} $$\n",
    "\n",
    "$$ N_{remnants} = 1.695\\times10^9 $$\n",
    "\n",
    "Finally, the total mass of the remnants is $N_{remnants}$ times the mass of each remnant. Using $M = 1.4M_\\odot$ (the lower mass limit of a neutron star) as the remnant mass,\n",
    "\n",
    "$$ M_{remnants} = 1.4M_\\odot N_{remnants} $$\n",
    "\n",
    "$$ M_{remnants} = 2.373\\times10^9M_\\odot $$\n",
    "\n",
    "b. "
   ]
  },
  {
   "cell_type": "code",
   "execution_count": null,
   "metadata": {},
   "outputs": [],
   "source": []
  }
 ],
 "metadata": {
  "kernelspec": {
   "display_name": "Python 3",
   "language": "python",
   "name": "python3"
  },
  "language_info": {
   "codemirror_mode": {
    "name": "ipython",
    "version": 3
   },
   "file_extension": ".py",
   "mimetype": "text/x-python",
   "name": "python",
   "nbconvert_exporter": "python",
   "pygments_lexer": "ipython3",
   "version": "3.6.5"
  }
 },
 "nbformat": 4,
 "nbformat_minor": 2
}
