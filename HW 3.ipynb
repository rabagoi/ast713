{
 "cells": [
  {
   "cell_type": "markdown",
   "metadata": {},
   "source": [
    "## Ian Rabago - AST 713, Homework 3\n",
    "***"
   ]
  },
  {
   "cell_type": "markdown",
   "metadata": {
    "collapsed": true
   },
   "source": [
    "### Chapter 3, Problem 4\n",
    "\n",
    "Consider a hypothetical star of radius $R$, with density $\\rho$ that is constant, i.e., independent of radius. The star is composed of a classical, nonrelativistic, ideal gas of fully ionized hydrogen.\n",
    "\n",
    "a. Solve the equations of stellar structure for the pressure profile, P(r), with the boundary condition P(R) = 0.\n",
    "\n",
    "b. Find the temperature profile, T(r).\n",
    "\n",
    "c. Assume that the nuclear energy production rate depends on temperature as $\\epsilon \\sim T^4$. (This is the approximate dependence of the rate for the p-p chain at the temperature in the core of the Sun.) At what radius does $\\epsilon$ decrease to 0.1 of its central value, and what fraction of the star's volume is included within this radius?\n",
    "***\n",
    "<br>"
   ]
  },
  {
   "cell_type": "markdown",
   "metadata": {},
   "source": [
    "a. Using a constant density $\\rho$, the mass continuity equation becomes:\n",
    "\n",
    "$$\\frac{dM(r)}{dr} = -4 \\pi r^2 \\rho $$\n",
    "\n",
    "which can be solved to get\n",
    "\n",
    "$$\\int dM(r) = -4 \\pi r^2 \\rho\\ dr$$\n",
    "\n",
    "$$ M(r) = -\\frac{4}{3} \\pi r^3 \\rho $$\n",
    "\n",
    "This can be used to solve for the pressure profile P(r):\n",
    "\n",
    "$$\\frac{dP(r)}{dr} = -\\frac{GM(r)\\rho (r)}{r^2} = -\\frac{4}{3}G \\rho^2 \\pi r $$\n",
    "\n",
    "$$\\int dP(r) = \\int -\\frac{4}{3}G \\rho^2 \\pi r\\ dr $$\n",
    "\n",
    "$$ P(r) = -\\frac{2}{3}G \\rho^2 \\pi r^2 + C $$\n",
    "\n",
    "Using the boundary condition P(R) = 0, the constant C has a value of $C = \\frac{2}{3}G \\rho^2 \\pi R^2$. This creates the final equation for P(r)\n",
    "\n",
    "$$ P(r) = \\frac{2}{3}G \\rho^2 \\pi (R^2 - r^2) $$\n",
    "<br>\n",
    "<br>"
   ]
  },
  {
   "cell_type": "markdown",
   "metadata": {},
   "source": [
    "b. Since the star is made of fully ionized hydrogen, we can use the convection equations to find the temperature profile of the star.\n",
    "\n",
    "$$ \\frac{dT}{dr} = \\frac{\\gamma - 1}{\\gamma} \\frac{T}{P} \\left| \\frac{dP}{dr}\\right| $$\n",
    "\n",
    "Using the values of P(r) and $\\frac{dP}{dr}$ from part a),\n",
    "\n",
    "$$ \\frac{dT}{dr} = \\frac{\\gamma - 1}{\\gamma} \\frac{T}{\\left( \\frac{2}{3}G \\rho^2 \\pi (R^2 - r^2) \\right)} \\left| -\\frac{4}{3}G \\rho^2 \\pi r \\right| $$\n",
    "\n",
    "$$ \\frac{dT}{dr} = 2T \\frac{\\gamma - 1}{\\gamma} \\frac{r}{R^2 - r^2} $$\n",
    "\n",
    "$$ \\int \\frac{dT}{T} = 2 \\frac{\\gamma - 1}{\\gamma} \\int \\frac{r}{R^2 - r^2} dr $$\n",
    "\n",
    "$$ \\ln{T(r)} = -\\frac{\\gamma - 1}{\\gamma} \\ln{\\left( R^2 - r^2 \\right)} $$\n",
    "\n",
    "$$ T(r) = \\left( R^2 - r^2 \\right)^{-\\frac{\\gamma - 1}{\\gamma}} $$\n",
    "\n",
    "Using the value $\\gamma = \\frac{5}{3}$, the equation for T(r) becomes\n",
    "\n",
    "$$ T(r) = \\left( R^2 - r^2 \\right)^{-\\frac{2}{5}} $$\n",
    "<br>\n",
    "<br>"
   ]
  },
  {
   "cell_type": "markdown",
   "metadata": {},
   "source": [
    "c. Using $\\epsilon \\sim T^4$,\n",
    "\n",
    "$$ \\epsilon \\sim T^4 \\sim \\left[ \\left( R^2 - r^2 \\right)^{-\\frac{2}{5}} \\right]^4 $$\n",
    "\n",
    "$$ \\epsilon \\sim \\left( R^2 - r^2 \\right)^{-\\frac{8}{5}} $$\n",
    "\n",
    "To find where $\\epsilon$ drops to 0.1 of its core value,\n",
    "\n",
    "$$ \\epsilon_r = 0.1 \\epsilon_{core} $$\n",
    "\n",
    "$$ \\left( R^2 - r^2 \\right)^{-\\frac{8}{5}} = 0.1 \\left( R^2 \\right)^{-\\frac{8}{5}} = 0.1 R^{-\\frac{16}{5}}$$\n",
    "\n",
    "$$ \\left( R^2 - r^2 \\right) = 0.1^{\\frac{5}{8}} R^2 $$\n",
    "\n",
    "$$ r^2 = R^2 - 0.1^{\\frac{5}{8}} R^2 $$\n",
    "\n",
    "$$ r = \\sqrt{1 - 0.1^{\\frac{5}{8}}} R \\approx 0.8734\\ R$$\n",
    "\n",
    "Since $V \\sim R^3$, the fraction of the star contained within this radius is\n",
    "\n",
    "$$ V_{frac} = \\left( \\sqrt{1 - 0.1^{\\frac{5}{8}}} R \\right)^3 = \\sqrt{1 - 0.1^{\\frac{15}{8}}}\\ R^3 $$\n",
    "\n",
    "$$ V_{frac} \\approx 0.6663 V_*$$\n",
    "<br>\n",
    "***"
   ]
  },
  {
   "cell_type": "markdown",
   "metadata": {},
   "source": [
    "### Chapter 3, Problem 6\n",
    "\n",
    "Consider a star of mass $M = 10M_{\\odot}$, composed entirely of fully ionized $^{12}C$. Its core temperature is $T_C = 6 \\times 10^8$ K (compared to $T_{C,\\odot} = 1.5 \\times 10^7$ K for the Sun).\n",
    "\n",
    "a. What is the mean particle mass $\\overline{m}$, in units of $m_H$?\n",
    "\n",
    "b. Use the classical ideal gas law, the dimentional relation between mass, density, and radius, and the virial theorem to find the scaling of the stellar radius $r_*$ with total mass $M$, mean particle mass $\\overline{m}$, and core temperature $T_c$. Using the values of these parameters for the Sun, derive the radius of the star.\n",
    "\n",
    "c. If the luminosity of the star is $L = 10^7 L_{\\odot}$, what is the effective surface temperature?\n",
    "\n",
    "d. Suppose the star produces energy via the reaction\n",
    "\n",
    "$$ ^{12}C\\ +\\ ^{12}C\\ \\rightarrow\\  ^{24}Mg. $$\n",
    "\n",
    "The atomic weight of $^{12}C$ is 12, and that of $^{24}Mg$ is 23.985. What fraction of the star's mass can be converted into thermal energy?\n",
    "\n",
    "e. How much time does it take for the star to use of 10% of its carbon?\n",
    "***\n",
    "<br>"
   ]
  },
  {
   "cell_type": "markdown",
   "metadata": {
    "collapsed": true
   },
   "source": [
    "a. The star is made of ionized carbon atoms, which consists of a $^{12}C$ nucleus $(m = 12 m_H)$ and 6 electrons per nucleus $(m = m_e)$. Electrons are much lighter than protons or neutrons $(m_e << m_H)$, so their masses can be ignored when calculating the mean mass. This yields a value of\n",
    "\n",
    "$$ \\overline{m} = \\frac{12 m_H + 6 m_e}{7} \\sim \\frac{12}{7} m_H $$\n",
    "<br>"
   ]
  },
  {
   "cell_type": "markdown",
   "metadata": {},
   "source": [
    "b. The relations to be used are:\n",
    "\n",
    "Ideal Gas Law\n",
    "$$ P_g = nkT = \\frac{\\rho}{\\overline{m}}kT$$\n",
    "\n",
    "Mass-Density relationship\n",
    "$$ M \\sim \\rho r^3 $$\n",
    "\n",
    "Virial Theorem\n",
    "$$ \\overline{P} = \\frac{1}{3} \\frac{E_{gr}}{V} $$\n",
    "\n",
    "By first equating $P_g$ and $\\overline{P}$,\n",
    "\n",
    "$$ \\frac{\\rho}{\\overline{m}}kT = \\frac{1}{3} \\frac{E_{gr}}{V} $$\n",
    "\n",
    "The mass-density relationship can now be used to eliminate $\\rho$ and, while a profile of $E_{gr} \\sim \\frac{GM^2}{R}$ and $V \\sim R^3$ can be used for the right-hand side.\n",
    "\n",
    "$$ \\frac{M}{R^3 \\overline{m}}kT \\sim \\frac{GM^2}{R^4} $$\n",
    "\n",
    "Solving for R and using $T = T_c$,\n",
    "\n",
    "$$ R \\sim \\frac{G}{k} \\frac{M}{T_c \\overline{m}} $$\n",
    "\n",
    "\n",
    "Noting that for the star, $T_c = 40 T_{c,\\odot}$, the star's radius can be estimated as\n",
    "\n",
    "$$ \\frac{R}{R_\\odot} = \\frac{M_*}{T_{c,*} \\overline{m_*}} = \\frac{10 M_\\odot}{40 T_{c,\\odot} \\frac{12}{7}}$$\n",
    "\n",
    "$$ \\frac{R}{R_\\odot} = 0.1458$$\n",
    "\n",
    "<br>"
   ]
  },
  {
   "cell_type": "markdown",
   "metadata": {},
   "source": [
    "c. For main sequence stars, $L \\sim T_E^8$, so\n",
    "\n",
    "$$ 10^7 L_\\odot \\sim T_{E,*}^8 $$\n",
    "\n",
    "$$ T_{E,*} \\sim 10^\\frac{7}{8} L_{\\odot}^\\frac{1}{8} $$\n",
    "\n",
    "$$ T_{E,*} \\sim 10^\\frac{7}{8} T_{\\odot} \\approx 43,500 K$$\n",
    "<br>"
   ]
  },
  {
   "cell_type": "markdown",
   "metadata": {},
   "source": [
    "d. \n",
    "<br>"
   ]
  },
  {
   "cell_type": "markdown",
   "metadata": {},
   "source": [
    "e. \n",
    "<br>"
   ]
  },
  {
   "cell_type": "code",
   "execution_count": null,
   "metadata": {
    "collapsed": true
   },
   "outputs": [],
   "source": []
  }
 ],
 "metadata": {
  "kernelspec": {
   "display_name": "Python 3",
   "language": "python",
   "name": "python3"
  },
  "language_info": {
   "codemirror_mode": {
    "name": "ipython",
    "version": 3
   },
   "file_extension": ".py",
   "mimetype": "text/x-python",
   "name": "python",
   "nbconvert_exporter": "python",
   "pygments_lexer": "ipython3",
   "version": "3.6.3"
  }
 },
 "nbformat": 4,
 "nbformat_minor": 2
}
