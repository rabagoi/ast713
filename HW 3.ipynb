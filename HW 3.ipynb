{
 "cells": [
  {
   "cell_type": "markdown",
   "metadata": {},
   "source": [
    "## Ian Rabago - AST 713, Homework 3\n",
    "***"
   ]
  },
  {
   "cell_type": "markdown",
   "metadata": {
    "collapsed": true
   },
   "source": [
    "### Chapter 3, Problem 4\n",
    "\n",
    "Consider a hypothetical star of radius $R$, with density $\\rho$ that is constant, i.e., independent of radius. The star is composed of a classical, nonrelativistic, ideal gas of fully ionized hydrogen.\n",
    "\n",
    "a. Solve the equations of stellar structure for the pressure profile, P(r), with the boundary condition P(R) = 0.\n",
    "\n",
    "b. Find the temperature profile, T(r).\n",
    "\n",
    "c. Assume that the nuclear energy production rate depends on temperature as $\\epsilon \\sim T^4$. (This is the approximate dependence of the rate for the p-p chain at the temperature in the core of the Sun.) At what radius does $\\epsilon$ decrease to 0.1 of its central value, and what fraction of the star's volume is included within this radius?\n",
    "***\n",
    "<br>"
   ]
  },
  {
   "cell_type": "markdown",
   "metadata": {},
   "source": [
    "a. Using a constant density $\\rho$, the mass continuity equation becomes:\n",
    "\n",
    "$$\\frac{dM(r)}{dr} = -4 \\pi r^2 \\rho $$\n",
    "\n",
    "which can be solved to get\n",
    "\n",
    "$$\\int dM(r) = -4 \\pi r^2 \\rho\\ dr$$\n",
    "\n",
    "$$ M(r) = -\\frac{4}{3} \\pi r^3 \\rho $$\n",
    "\n",
    "This can be used to solve for the pressure profile P(r):\n",
    "\n",
    "$$\\frac{dP(r)}{dr} = -\\frac{GM(r)\\rho (r)}{r^2} = -\\frac{4}{3}G \\rho^2 \\pi r $$\n",
    "\n",
    "$$\\int dP(r) = \\int -\\frac{4}{3}G \\rho^2 \\pi r\\ dr $$\n",
    "\n",
    "$$ P(r) = -\\frac{2}{3}G \\rho^2 \\pi r^2 + C $$\n",
    "\n",
    "Using the boundary condition P(R) = 0, the constant C has a value of $C = \\frac{2}{3}G \\rho^2 \\pi R^2$. This creates the final equation for P(r)\n",
    "\n",
    "$$ P(r) = \\frac{2}{3}G \\rho^2 \\pi (R^2 - r^2) $$\n",
    "<br>\n",
    "<br>"
   ]
  },
  {
   "cell_type": "markdown",
   "metadata": {},
   "source": [
    "b. Since the star is made of fully ionized hydrogen, we can use the convection equations to find the temperature profile of the star.\n",
    "\n",
    "$$ \\frac{dT}{dr} = \\frac{\\gamma - 1}{\\gamma} \\frac{T}{P} \\left| \\frac{dP}{dr}\\right| $$\n",
    "\n",
    "Using the values of P(r) and $\\frac{dP}{dr}$ from part a),\n",
    "\n",
    "$$ \\frac{dT}{dr} = \\frac{\\gamma - 1}{\\gamma} \\frac{T}{\\left( \\frac{2}{3}G \\rho^2 \\pi (R^2 - r^2) \\right)} \\left| -\\frac{4}{3}G \\rho^2 \\pi r \\right| $$\n",
    "\n",
    "$$ \\frac{dT}{dr} = 2T \\frac{\\gamma - 1}{\\gamma} \\frac{r}{R^2 - r^2} $$\n",
    "\n",
    "$$ \\int \\frac{dT}{T} = 2 \\frac{\\gamma - 1}{\\gamma} \\int \\frac{r}{R^2 - r^2} dr $$\n",
    "\n",
    "$$ \\ln{T(r)} = -\\frac{\\gamma - 1}{\\gamma} \\ln{\\left( R^2 - r^2 \\right)} $$\n",
    "\n",
    "$$ T(r) = \\left( R^2 - r^2 \\right)^{-\\frac{\\gamma - 1}{\\gamma}} $$\n",
    "\n",
    "Using the value $\\gamma = \\frac{5}{3}$, the equation for T(r) becomes\n",
    "\n",
    "$$ T(r) = \\left( R^2 - r^2 \\right)^{-\\frac{2}{5}} $$\n",
    "<br>\n",
    "<br>"
   ]
  },
  {
   "cell_type": "markdown",
   "metadata": {},
   "source": [
    "c. Using $\\epsilon \\sim T^4$,\n",
    "\n",
    "$$ \\epsilon \\sim T^4 \\sim \\left[ \\left( R^2 - r^2 \\right)^{-\\frac{2}{5}} \\right]^4 $$\n",
    "\n",
    "$$ \\epsilon \\sim \\left( R^2 - r^2 \\right)^{-\\frac{8}{5}} $$\n",
    "\n",
    "To find where $\\epsilon$ drops to 0.1 of its core value,\n",
    "\n",
    "$$ \\epsilon_r = 0.1 \\epsilon_{core} $$\n",
    "\n",
    "$$ \\left( R^2 - r^2 \\right)^{-\\frac{8}{5}} = 0.1 \\left( R^2 \\right)^{-\\frac{8}{5}} = 0.1 R^{-\\frac{16}{5}}$$\n",
    "\n",
    "$$ \\left( R^2 - r^2 \\right) = 0.1^{\\frac{5}{8}} R^2 $$\n",
    "\n",
    "$$ r^2 = R^2 - 0.1^{\\frac{5}{8}} R^2 $$\n",
    "\n",
    "$$ r = \\sqrt{1 - 0.1^{\\frac{5}{8}}} R \\approx 0.8734\\ R$$\n",
    "\n",
    "Since $V \\sim R^3$, the fraction of the star contained within this radius is\n",
    "\n",
    "$$ V_{frac} = \\left( \\sqrt{1 - 0.1^{\\frac{5}{8}}} R \\right)^3 = \\sqrt{1 - 0.1^{\\frac{15}{8}}}\\ R^3 $$\n",
    "\n",
    "$$ V_{frac} \\approx 0.6663 V_*$$\n",
    "<br>\n",
    "***"
   ]
  },
  {
   "cell_type": "markdown",
   "metadata": {},
   "source": [
    "### Chapter 3, Problem 6\n",
    "\n",
    "Consider a star of mass $M = 10M_{\\odot}$, composed entirely of fully ionized $^{12}C$. Its core temperature is $T_C = 6 \\times 10^8$ K (compared to $T_{C,\\odot} = 1.5 \\times 10^7$ K for the Sun).\n",
    "\n",
    "a. What is the mean particle mass m, in units of $m_H$?"
   ]
  },
  {
   "cell_type": "code",
   "execution_count": null,
   "metadata": {
    "collapsed": true
   },
   "outputs": [],
   "source": []
  }
 ],
 "metadata": {
  "kernelspec": {
   "display_name": "Python 3",
   "language": "python",
   "name": "python3"
  },
  "language_info": {
   "codemirror_mode": {
    "name": "ipython",
    "version": 3
   },
   "file_extension": ".py",
   "mimetype": "text/x-python",
   "name": "python",
   "nbconvert_exporter": "python",
   "pygments_lexer": "ipython3",
   "version": "3.6.3"
  }
 },
 "nbformat": 4,
 "nbformat_minor": 2
}
