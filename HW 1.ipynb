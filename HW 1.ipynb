{
 "cells": [
  {
   "cell_type": "markdown",
   "metadata": {},
   "source": [
    "## Ian Rabago - AST 713, Homework 1\n",
    "***"
   ]
  },
  {
   "cell_type": "markdown",
   "metadata": {
    "collapsed": true
   },
   "source": [
    "### Chapter 1, Problem 2\n",
    "\n",
    "A CCD detector at the focal plane of a 1-m diameter telescope records the image of a certain star. Due to the blurring effect of the atmosphere, the light from the star is spread over a circular area of R pixels. The total number of photoelectrons accumulated in this area from the star is $N_{star}$. Light from the sky produces $n_{sky}$ photoelectrons for each pixel in the same exposure.\n",
    "\n",
    "a) Calculate the signal-to-noise ratio S/N of the photometric measurement of the star (i.e. the ratio of counts from the star to the uncertainty in the measurement). Assume Poisson statistics, so that the \"noise\" is the square root of the total counts from all sources.\n",
    "\n",
    "b) The same star is observed with the same exposure time, but with a 10-m diameter telescope. The larger telescope has a larger light gethering area, but also has 3 times better seeing, spreading the star's light onto a circle of size R/3 instead. Find the S/N ratio in this case.\n",
    "\n",
    "c) Assuming the star and sky are not variable, find the dependence of S/N on the exposure time, t, in two limiting cases: the counts from the star are much greater than counts in the sky, and vice versa.\n",
    "\n",
    "d) Based on the results of (c), by what factor does the exposure time with the 1-m telescope need to be increased to reach the S/N ratio of the 10-m telescope, for each of the limiting cases?\n",
    "***"
   ]
  },
  {
   "cell_type": "markdown",
   "metadata": {
    "collapsed": true
   },
   "source": [
    "a)  A pixel in the image of the star recieves a fraction $\\frac{N_{star}}{\\pi R^2}$ photoelectrons as a signal S. Using Poisson statistics, the noise N recieved within the star's image is $\\sqrt{N_{star}+n_{sky}}$. This creates a signal to noise ratio of\n",
    "\n",
    "<h2> $ \\frac{S}{N} = \\frac{1}{\\pi R^2} \\frac{N_{star}}{\\sqrt{N_{star}+n_{sky}}}$ </h2>\n",
    "\n",
    "for all pixels on the CCD observing the star.<br>\n",
    "<br>"
   ]
  },
  {
   "cell_type": "markdown",
   "metadata": {},
   "source": [
    "b) Since the star's image is now smaller, the signal to noise ratio changes to\n",
    "\n",
    "<h2> $ \\frac{S}{N} = \\frac{1}{\\pi (R/3)^2} \\frac{N_{star}}{\\sqrt{N_{star}+n_{sky}}}$ </h2>\n",
    "\n",
    "> <h2> $ = \\frac{9}{\\pi R^2} \\frac{N_{star}}{\\sqrt{N_{star}+n_{sky}}}$ </h2>\n",
    "\n",
    "The increased aperture and better seeing has improved the signal to noise ratio by almost an order of magnitude.<br>\n",
    "<br>"
   ]
  },
  {
   "cell_type": "markdown",
   "metadata": {},
   "source": [
    "c) If the star and the sky are not variable over time, the number of counts from each source can be assumed to grow linarly with time, i.e.\n",
    "\n",
    "$N_{star} \\sim t, n_{sky} \\sim t$\n",
    "\n",
    "In the source-limited case, $N_{star} >> n_{sky}$, perhaps for a long exposure. This changes the signal to noise ratio to\n",
    "\n",
    "<h2> $ \\frac{S}{N} \\sim \\frac{N_{star}}{\\sqrt{N_{star}}} = \\sqrt{N_{star}}$ </h2>\n",
    "<h2> $ \\frac{S}{N} \\sim t^{\\frac{1}{2}} $ </h2>\n",
    "\n",
    "In the background-limited case, $N_{star} << n_{sky}$, such as during the daytime. Then the signal to noise ratio becomes\n",
    "\n",
    "<h2> $ \\frac{S}{N} \\sim \\frac{N_{star}}{\\sqrt{n_{sky}}}$ </h2>\n",
    "<h2> $ \\frac {S}{N} \\sim \\frac{t}{\\sqrt{t}} = t^{\\frac{1}{2}}$ </h2>\n",
    "\n",
    "Both cases show a signal to noise ratio which increases with the square root of the exposure time t. <br>\n",
    "<br>"
   ]
  },
  {
   "cell_type": "markdown",
   "metadata": {},
   "source": [
    "d) At the same exposure time,\n",
    "\n",
    "<h2> $ \\frac{S}{N}_{10m} \\sim 10 \\frac{S}{N}_{1m} $ </h2>\n",
    "\n",
    "In the source-limited case, $\\frac{S}{N} \\sim \\sqrt{N_{star}}$. Thus, to increase the signal to noise ratio by a factor of ten, the exposure time must be increased by a factor of 100:\n",
    "<h3> $ 10\\frac{S}{N} = 10\\sqrt{N_{star}} = \\sqrt{100N_{star}}$ </h3>\n",
    "\n",
    "\n",
    "In the background-limited case, $ \\frac{S}{N} \\sim \\frac{N_{star}}{\\sqrt{n_{sky}}}$. Since S/N grows at the same rate in this limiting case, the exposure time must also be increased by a factor of 100 to equal the S/N of the 10-m telescope.\n",
    "\n",
    "<h3> $ 10\\frac{S}{N} = 10\\frac{N_{star}}{\\sqrt{n_{sky}}} = \\frac{100 N_{star}}{10 \\sqrt{n_{sky}}} = \\frac{100 N_{star}}{\\sqrt{100 n_{sky}}}$ </h3>"
   ]
  },
  {
   "cell_type": "code",
   "execution_count": null,
   "metadata": {
    "collapsed": true
   },
   "outputs": [],
   "source": []
  }
 ],
 "metadata": {
  "kernelspec": {
   "display_name": "Python 3",
   "language": "python",
   "name": "python3"
  },
  "language_info": {
   "codemirror_mode": {
    "name": "ipython",
    "version": 3
   },
   "file_extension": ".py",
   "mimetype": "text/x-python",
   "name": "python",
   "nbconvert_exporter": "python",
   "pygments_lexer": "ipython3",
   "version": "3.6.3"
  }
 },
 "nbformat": 4,
 "nbformat_minor": 2
}
