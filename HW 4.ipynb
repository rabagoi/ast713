{
 "cells": [
  {
   "cell_type": "markdown",
   "metadata": {},
   "source": [
    "## Ian Rabago - AST 713, Homework 4\n",
    "\n",
    "***"
   ]
  },
  {
   "cell_type": "markdown",
   "metadata": {},
   "source": [
    "### Chapter 4,  Problem 1"
   ]
  },
  {
   "cell_type": "markdown",
   "metadata": {},
   "source": [
    "$n_e = \\frac{8 \\pi}{3 h^3}p_F^3$\n",
    "\n",
    "a. Using $p_F^3 = \\sqrt{2 m_e E_F}$,\n",
    "\n",
    "$n_e = \\frac{8 \\pi}{3 h^3}(2 m_e E_F)^{\\frac{3}{2}}$\n",
    "\n",
    "$ (2 m_e E_F)^{\\frac{3}{2}} = \\frac{3 h^3 n_e}{8 \\pi} $\n",
    "\n",
    "$2 m_e E_F = \\left(\\frac{3 h^3 n_e}{8 \\pi}\\right)^{\\frac{2}{3}}$\n",
    "\n",
    "$ E_F = \\frac{h^2}{8} \\left(\\frac{3}{\\pi}\\right)^{\\frac{2}{3}} \\frac{n_e^{\\frac{2}{3}}}{m_e} $\n",
    "<br>"
   ]
  },
  {
   "cell_type": "markdown",
   "metadata": {},
   "source": [
    "b. Estimate a characteristic $n_e$ at $T = 10^7 K$\n",
    "\n",
    "$$ \\frac{E_{th}}{E_F} = \\frac{\\frac{3}{2} N k T}{\\frac{h^2}{8} \\left(\\frac{3}{\\pi}\\right)^{\\frac{2}{3}} \\frac{n_e^{\\frac{2}{3}}}{m_e}} $$\n",
    "\n",
    "$$ \\frac{E_{th}}{E_F} = \\frac{12}{h^2} \\left(\\frac{\\pi}{3} \\right)^{\\frac{2}{3}} \\frac{NkTm_e}{n_e^{\\frac{2}{3}}}$$"
   ]
  },
  {
   "cell_type": "markdown",
   "metadata": {},
   "source": [
    "### Chapter 4, Problem 4\n",
    "\n"
   ]
  },
  {
   "cell_type": "code",
   "execution_count": null,
   "metadata": {},
   "outputs": [],
   "source": []
  }
 ],
 "metadata": {
  "kernelspec": {
   "display_name": "Python 3",
   "language": "python",
   "name": "python3"
  },
  "language_info": {
   "codemirror_mode": {
    "name": "ipython",
    "version": 3
   },
   "file_extension": ".py",
   "mimetype": "text/x-python",
   "name": "python",
   "nbconvert_exporter": "python",
   "pygments_lexer": "ipython3",
   "version": "3.6.5"
  }
 },
 "nbformat": 4,
 "nbformat_minor": 2
}
