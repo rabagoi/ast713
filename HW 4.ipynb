{
 "cells": [
  {
   "cell_type": "markdown",
   "metadata": {},
   "source": [
    "## Ian Rabago - AST 713, Homework 4\n",
    "\n",
    "***"
   ]
  },
  {
   "cell_type": "markdown",
   "metadata": {},
   "source": [
    "### Chapter 4,  Problem 1"
   ]
  },
  {
   "cell_type": "markdown",
   "metadata": {},
   "source": [
    "$n_e = \\frac{8 \\pi}{3 h^3}p_F^3$\n",
    "\n",
    "a. Using $p_F^3 = \\sqrt{2 m_e E_F}$,\n",
    "\n",
    "$n_e = \\frac{8 \\pi}{3 h^3}(2 m_e E_F)^{\\frac{3}{2}}$\n",
    "\n",
    "$ (2 m_e E_F)^{\\frac{3}{2}} = \\frac{3 h^3 n_e}{8 \\pi} $\n",
    "\n",
    "$2 m_e E_F = \\left(\\frac{3 h^3 n_e}{8 \\pi}\\right)^{\\frac{2}{3}}$\n",
    "\n",
    "$ E_F = \\frac{h^2}{8} \\left(\\frac{3}{\\pi}\\right)^{\\frac{2}{3}} \\frac{n_e^{\\frac{2}{3}}}{m_e} $\n",
    "<br>"
   ]
  },
  {
   "cell_type": "markdown",
   "metadata": {},
   "source": [
    "b. Estimate a characteristic $n_e$ at $T = 10^7 K$\n",
    "\n",
    "$$ \\frac{E_{th}}{E_F} = \\frac{\\frac{3}{2} N k T}{\\frac{h^2}{8} \\left(\\frac{3}{\\pi}\\right)^{\\frac{2}{3}} \\frac{n_e^{\\frac{2}{3}}}{m_e}} $$\n",
    "\n",
    "$$ \\frac{E_{th}}{E_F} = \\frac{12}{h^2} \\left(\\frac{\\pi}{3} \\right)^{\\frac{2}{3}} \\frac{NkTm_e}{n_e^{\\frac{2}{3}}}$$"
   ]
  },
  {
   "cell_type": "markdown",
   "metadata": {},
   "source": [
    "***\n",
    "### Chapter 4, Problem 4"
   ]
  },
  {
   "cell_type": "markdown",
   "metadata": {},
   "source": [
    "a. Using the Virial Theorem,\n",
    "\n",
    "$ \\overline{P} = \\frac{1}{3} \\frac{E_{gr}}{V}$\n",
    "\n",
    "$ \\overline{P} = \\frac{1}{3} \\frac{GM^2}{RV} $\n",
    "\n",
    "$ \\overline{P} = \\frac{1}{4 \\pi} \\frac{GM^2}{R^4} $\n",
    "<br>\n",
    "<br>"
   ]
  },
  {
   "cell_type": "markdown",
   "metadata": {},
   "source": [
    "b. $ v_s = \\sqrt{\\frac{dP}{d\\rho}} \\sim \\sqrt{\\frac{P}{\\rho}}$\n",
    "\n",
    "$ M = 1.4M_{\\odot},\\ R = 10^4 km$\n",
    "\n",
    "$$ v_s = \\frac{\\frac{1}{4 \\pi} \\frac{GM^2}{R^4}}{\\rho} $$\n",
    "\n",
    "$$ v_s = \\sqrt{\\frac{G}{4 \\pi} \\frac{M^2}{R^4} \\left( \\frac{R^3}{M} \\right) } $$\n",
    "\n",
    "$$ v_s = \\sqrt{\\frac{1}{4 \\pi} \\frac{GM}{R}} $$\n",
    "\n",
    "Using the values for $M_{\\odot}$ and $R$,\n",
    "\n",
    "$$ v_s = \\sqrt{\\frac{1}{4 \\pi} \\frac{(6.7\\times10^8)(1.4 \\times 2\\times10^{33}\\ g)}{10^9\\ cm}} $$\n",
    "\n",
    "$$ v_s = 1.22\\times10^8\\ cm/s $$\n",
    "<br>\n",
    "<br>"
   ]
  },
  {
   "cell_type": "markdown",
   "metadata": {},
   "source": [
    "c. Energy of explosion vs. gravitational binding energy\n",
    "\n",
    "Assuming a 0.1% mass-energy conversion, the amount of energy released during the explosion is\n",
    "\n",
    "$$ E = 0.001(1.4M_{\\odot})c^2 = 0.014(2\\times10^{33}\\ g)(3\\times10^{10}\\ cm/s)$$\n",
    "$$ E = 2.52\\times10^{51}\\ erg $$\n",
    "\n",
    "Meanwhile, the white dwarf's gravitational binding energy is\n",
    "\n",
    "$$ U = \\frac{3}{5} \\frac{GM^2}{R} = \\frac{3}{5} \\frac{(6.7\\times10^8)(1.4\\times2\\times10^{33}\\ g)^2}{10^9\\ cm} $$\n",
    "$$ U = 3.15\\times10^{50}\\ erg $$\n",
    "\n",
    "Since E > U by an order of magnitude, the white dwarf is destroyed during the Type 1a supernova.\n",
    "<br>\n",
    "<br>"
   ]
  },
  {
   "cell_type": "code",
   "execution_count": null,
   "metadata": {},
   "outputs": [],
   "source": []
  }
 ],
 "metadata": {
  "kernelspec": {
   "display_name": "Python 3",
   "language": "python",
   "name": "python3"
  },
  "language_info": {
   "codemirror_mode": {
    "name": "ipython",
    "version": 3
   },
   "file_extension": ".py",
   "mimetype": "text/x-python",
   "name": "python",
   "nbconvert_exporter": "python",
   "pygments_lexer": "ipython3",
   "version": "3.6.5"
  }
 },
 "nbformat": 4,
 "nbformat_minor": 2
}
