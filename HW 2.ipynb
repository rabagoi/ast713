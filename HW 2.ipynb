{
 "cells": [
  {
   "cell_type": "markdown",
   "metadata": {},
   "source": [
    "## Ian Rabago - AST 713, Homework 1\n",
    "***"
   ]
  },
  {
   "cell_type": "markdown",
   "metadata": {},
   "source": [
    "### Chapter 2, Problem 4\n",
    "The maximal radial velocities measured for the two components of a spectroscopic binary are 100 and 200 $km\\ s^{-1}$, with an orbital period of 2 days. The orbits are circular.\n",
    "\n",
    "a. Find the mass ratio of the two stars.\n",
    "\n",
    "b. Use Kepler's Law to calculate the value of $M sin^3 i$ for each star, where $M$ is the mass and $i$ is the inclination to the observer's line of sight of the perpendicular to the orbital plane.\n",
    "\n",
    "c. Calculate the mean expectation value of the factor $sin^3 i$, i.e., the mean value it would have among an ensemble of binaries with random inclinations. Find the masses of the two stars, if $sin^3 i$ has its mean value.\n",
    "***"
   ]
  },
  {
   "cell_type": "markdown",
   "metadata": {},
   "source": [
    "a. The mass ratio of the two stars is directly related of their velocities by\n",
    "\n",
    "$\\frac{M_2}{M_1} = \\frac{|v_{1, obs}|}{|v_{2, obs}|}$\n",
    "\n",
    "$\\frac{M_2}{M_1} = \\frac{200\\ km\\ s^{-1}}{100\\ km\\ s^{-1}}$\n",
    "\n",
    "$\\frac{M_2}{M_1} = 2 $\n",
    " <br>\n",
    " <br>"
   ]
  },
  {
   "cell_type": "markdown",
   "metadata": {},
   "source": [
    "b. Using Kepler's Law for binaries,\n",
    "\n",
    "$ (M_1 + M_2)sin^3 i = \\frac{\\tau(|v_{1, obs}| + |v_{2, obs}|)^3}{2 \\pi G}$\n",
    "\n",
    "From part a, $M_2 = 2M_1$, so\n",
    "\n",
    "$ (M_1 + M_2)sin^3 i = 3M_1sin^3 i = \\frac{(2\\ days)(200\\ km\\ s^{-1} + 100\\ km\\ s^{-1})^3}{2 \\pi G}$\n",
    "\n",
    "$ M_1sin^3 i = \\frac{1}{3} \\frac{2(86400 s)(300\\ km\\ s^{-1})^3}{2 \\pi (6.7x10^{-8} erg\\ cm\\ g^{-2})}$\n",
    "\n",
    "$ M_1sin^3 i = \\frac{1}{3} \\frac{(86400 s)(27 \\times 10^{21}\\ cm^3\\ s^{-3})}{\\pi (6.7x10^{-8} erg\\ cm\\ g^{-2})}$\n",
    "\n",
    "$ M_1sin^3 i = \\frac{(777600 \\times 10^{21}\\ g^2\\ cm^2\\ s^{-2})}{\\pi (6.7x10^{-8} erg)}$\n",
    "\n",
    "$ M_1sin^3 i = 36943 \\times 10^{29} g = 3.69 \\times 10^{33} g$\n",
    "\n",
    "Using the mass of the Sun as roughly $M_{\\odot} \\sim 2 \\times 10^{33} g$,\n",
    "\n",
    "$ M_1sin^3 i = 1.8\\ M_{\\odot}$\n",
    "\n",
    "Substituting for $M_2$,\n",
    "\n",
    "$ M_2sin^3 i = 2M_1sin^3 i = 3.7\\ M_{\\odot}$"
   ]
  },
  {
   "cell_type": "code",
   "execution_count": null,
   "metadata": {
    "collapsed": true
   },
   "outputs": [],
   "source": []
  }
 ],
 "metadata": {
  "kernelspec": {
   "display_name": "Python 3",
   "language": "python",
   "name": "python3"
  },
  "language_info": {
   "codemirror_mode": {
    "name": "ipython",
    "version": 3
   },
   "file_extension": ".py",
   "mimetype": "text/x-python",
   "name": "python",
   "nbconvert_exporter": "python",
   "pygments_lexer": "ipython3",
   "version": "3.6.3"
  }
 },
 "nbformat": 4,
 "nbformat_minor": 2
}
